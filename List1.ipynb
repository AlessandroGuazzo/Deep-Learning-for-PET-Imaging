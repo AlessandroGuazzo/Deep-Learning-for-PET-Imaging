{
  "nbformat": 4,
  "nbformat_minor": 0,
  "metadata": {
    "colab": {
      "name": "Copia di List1.ipynb",
      "provenance": [],
      "collapsed_sections": [],
      "include_colab_link": true
    },
    "kernelspec": {
      "name": "python3",
      "display_name": "Python 3"
    }
  },
  "cells": [
    {
      "cell_type": "markdown",
      "metadata": {
        "id": "view-in-github",
        "colab_type": "text"
      },
      "source": [
        "<a href=\"https://colab.research.google.com/github/AlessandroGuazzo/Deep-Learning-for-PET-Imaging/blob/master/List1.ipynb\" target=\"_parent\"><img src=\"https://colab.research.google.com/assets/colab-badge.svg\" alt=\"Open In Colab\"/></a>"
      ]
    },
    {
      "cell_type": "markdown",
      "metadata": {
        "id": "0z73h-dnwo5j"
      },
      "source": [
        "Take a list, say for example this one:\r\n",
        "\r\n",
        "```\r\n",
        "a = [1, 1, 2, 3, 5, 8, 13, 21, 34, 55, 89]\r\n",
        "```\r\n",
        "\r\n",
        "and write a program that prints out all the elements of the list that are less than `5`.\r\n",
        "\r\n",
        "Extras:\r\n",
        "\r\n",
        "1. Instead of printing the elements one by one, make a new list that has all the elements less than 5 from this list in it and print out this new list.\r\n",
        "\r\n",
        "2. Ask the user for a number and return a list that contains only elements from the original list a that are smaller than that number given by the user."
      ]
    },
    {
      "cell_type": "code",
      "metadata": {
        "colab": {
          "base_uri": "https://localhost:8080/"
        },
        "id": "ZVWkKYPsvV9S",
        "outputId": "f6211c56-ff20-4752-cba6-f9f7cc46631b"
      },
      "source": [
        "a = [1, 1, 2, 3, 5, 8, 13, 21, 34, 55, 89]\r\n",
        "\r\n",
        "for i in range(0,len(a)):\r\n",
        "  if (a[i]<5):\r\n",
        "    print(a[i])"
      ],
      "execution_count": null,
      "outputs": [
        {
          "output_type": "stream",
          "text": [
            "1\n",
            "1\n",
            "2\n",
            "3\n"
          ],
          "name": "stdout"
        }
      ]
    },
    {
      "cell_type": "code",
      "metadata": {
        "id": "zvBemQCjwlSy",
        "colab": {
          "base_uri": "https://localhost:8080/"
        },
        "outputId": "17a014bc-6e1e-4cc8-867e-bb140629ab9b"
      },
      "source": [
        "a = [1, 1, 2, 3, 5, 8, 13, 21, 34, 55, 89]\r\n",
        "b = []\r\n",
        "\r\n",
        "for i in range(0,len(a)):\r\n",
        "  if (a[i]<5):\r\n",
        "    b.append(a[i])\r\n",
        "\r\n",
        "print(b)"
      ],
      "execution_count": null,
      "outputs": [
        {
          "output_type": "stream",
          "text": [
            "[1, 1, 2, 3]\n"
          ],
          "name": "stdout"
        }
      ]
    },
    {
      "cell_type": "code",
      "metadata": {
        "id": "0DmrQJRSw2vg",
        "colab": {
          "base_uri": "https://localhost:8080/"
        },
        "outputId": "5486f6e3-5bc7-4f55-c1cf-a03386016206"
      },
      "source": [
        "a = [1, 1, 2, 3, 5, 8, 13, 21, 34, 55, 89]\r\n",
        "b = []\r\n",
        "c = int(input(\"Enter a number: \"))\r\n",
        "\r\n",
        "for i in range(0,len(a)):\r\n",
        "  if (a[i]<c):\r\n",
        "    b.append(a[i])\r\n",
        "\r\n",
        "print(b)"
      ],
      "execution_count": null,
      "outputs": [
        {
          "output_type": "stream",
          "text": [
            "Enter a number: 100\n",
            "[1, 1, 2, 3, 5, 8, 13, 21, 34, 55, 89]\n"
          ],
          "name": "stdout"
        }
      ]
    }
  ]
}